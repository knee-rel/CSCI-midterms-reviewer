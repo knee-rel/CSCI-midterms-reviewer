{
 "cells": [
  {
   "cell_type": "markdown",
   "metadata": {},
   "source": [
    "Example Number 1\n",
    "\n",
    "Input n:\n",
    "The integer, number of loops\n",
    "\n",
    "Input word:\n",
    "Type a word, which will depend on the user input"
   ]
  },
  {
   "cell_type": "code",
   "execution_count": 1,
   "metadata": {},
   "outputs": [
    {
     "name": "stdout",
     "output_type": "stream",
     "text": [
      "3\n",
      "apple\n",
      "apple\n",
      "banana\n",
      "banana\n",
      "mango\n",
      "mango\n"
     ]
    }
   ],
   "source": [
    "n = int(input())\n",
    "i = 0\n",
    "while i < n:\n",
    "    word = input()\n",
    "    print(word)\n",
    "    i += 1"
   ]
  },
  {
   "cell_type": "markdown",
   "metadata": {},
   "source": [
    "Example 2:\n",
    "\n",
    "While loop that asks for user prompt until \"quit\" is typed"
   ]
  },
  {
   "cell_type": "code",
   "execution_count": 4,
   "metadata": {},
   "outputs": [
    {
     "name": "stdout",
     "output_type": "stream",
     "text": [
      "Please type a word: Seattle\n",
      "Seattle\n",
      "Please type a word: Derek Shepherd\n",
      "Derek Shepherd\n",
      "Please type a word: Meredith Grey\n",
      "Meredith Grey\n",
      "Please type a word: quit\n",
      "quit\n",
      "The end.\n"
     ]
    }
   ],
   "source": [
    "while True:\n",
    "    word = input('Please type a word: ')\n",
    "    print(word)\n",
    "    if word == 'quit':\n",
    "        break\n",
    "print('The end.')"
   ]
  },
  {
   "cell_type": "markdown",
   "metadata": {},
   "source": [
    "Example 3\n",
    "\n",
    "Nested While Loop, runs while the condition is satisfied then proceeds with the next while loop until condition is satisfied.\n",
    "\n",
    "Apple is printed first, then in between, three bananas are printed out since the loop is nested after the apple."
   ]
  },
  {
   "cell_type": "code",
   "execution_count": 5,
   "metadata": {},
   "outputs": [
    {
     "name": "stdout",
     "output_type": "stream",
     "text": [
      "apple\n",
      "banana\n",
      "banana\n",
      "banana\n",
      "apple\n",
      "banana\n",
      "banana\n",
      "banana\n",
      "apple\n",
      "banana\n",
      "banana\n",
      "banana\n",
      "The end\n"
     ]
    }
   ],
   "source": [
    "i = 0\n",
    "while i < 3:\n",
    "    print('apple')\n",
    "    j = 0\n",
    "    while j < 3:\n",
    "        print('banana')\n",
    "        j += 1\n",
    "    i += 1\n",
    "\n",
    "print('The end')"
   ]
  }
 ],
 "metadata": {
  "kernelspec": {
   "display_name": "Python 3",
   "language": "python",
   "name": "python3"
  },
  "language_info": {
   "codemirror_mode": {
    "name": "ipython",
    "version": 3
   },
   "file_extension": ".py",
   "mimetype": "text/x-python",
   "name": "python",
   "nbconvert_exporter": "python",
   "pygments_lexer": "ipython3",
   "version": "3.8.5"
  }
 },
 "nbformat": 4,
 "nbformat_minor": 4
}
