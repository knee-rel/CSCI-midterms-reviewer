{
 "cells": [
  {
   "cell_type": "markdown",
   "metadata": {},
   "source": [
    "Example 1\n",
    "\n",
    "Skips every other word by its index in increments of 2"
   ]
  },
  {
   "cell_type": "code",
   "execution_count": 5,
   "metadata": {},
   "outputs": [
    {
     "name": "stdout",
     "output_type": "stream",
     "text": [
      "New York\n",
      "California\n",
      "Florida\n"
     ]
    }
   ],
   "source": [
    "words = ['New York', 'Washington', 'California', 'Chicago', 'Florida']\n",
    "\n",
    "i = 0\n",
    "while i < len(words):\n",
    "    print(words[i])\n",
    "    i += 2"
   ]
  },
  {
   "cell_type": "markdown",
   "metadata": {},
   "source": [
    "Example 2"
   ]
  },
  {
   "cell_type": "code",
   "execution_count": 4,
   "metadata": {},
   "outputs": [
    {
     "name": "stdout",
     "output_type": "stream",
     "text": [
      "Florida\n",
      "Chicago\n",
      "California\n",
      "Washington\n",
      "New York\n"
     ]
    }
   ],
   "source": [
    "words = ['New York', 'Washington', 'California', 'Chicago', 'Florida']\n",
    "\n",
    "i = -1\n",
    "while i >= -len(words):\n",
    "    print(words[i])\n",
    "    i += -1"
   ]
  },
  {
   "cell_type": "markdown",
   "metadata": {},
   "source": [
    "Example 3\n",
    "\n",
    "range: (start, stop, step)"
   ]
  },
  {
   "cell_type": "code",
   "execution_count": 5,
   "metadata": {},
   "outputs": [
    {
     "name": "stdout",
     "output_type": "stream",
     "text": [
      "0\n",
      "2\n",
      "4\n",
      "6\n",
      "8\n"
     ]
    }
   ],
   "source": [
    "\n",
    "for n in range(0,10,2):\n",
    "    print(n)"
   ]
  },
  {
   "cell_type": "markdown",
   "metadata": {},
   "source": [
    "Example 4\n",
    "\n",
    "Reverse printing using for loops"
   ]
  },
  {
   "cell_type": "code",
   "execution_count": 12,
   "metadata": {},
   "outputs": [
    {
     "name": "stdout",
     "output_type": "stream",
     "text": [
      "Florida\n",
      "Chicago\n",
      "California\n",
      "Washington\n",
      "New York\n"
     ]
    }
   ],
   "source": [
    "words = ['New York', 'Washington', 'California', 'Chicago', 'Florida']\n",
    "\n",
    "for n in range(-1,-len(words)-1,-1):\n",
    "    print(words[n])"
   ]
  },
  {
   "cell_type": "markdown",
   "metadata": {},
   "source": [
    "Example 5\n",
    "\n",
    "Asterisk Problem"
   ]
  },
  {
   "cell_type": "code",
   "execution_count": 14,
   "metadata": {},
   "outputs": [
    {
     "name": "stdout",
     "output_type": "stream",
     "text": [
      "4\n",
      "****\n"
     ]
    }
   ],
   "source": [
    "s = ''\n",
    "i = 0\n",
    "n = int(input())\n",
    "while i < n:\n",
    "    s += '*'\n",
    "    i += 1\n",
    "print(s)"
   ]
  },
  {
   "cell_type": "code",
   "execution_count": 16,
   "metadata": {},
   "outputs": [
    {
     "name": "stdout",
     "output_type": "stream",
     "text": [
      "6\n",
      "******\n"
     ]
    }
   ],
   "source": [
    "s = ''\n",
    "n = int(input())\n",
    "for n in range(n):\n",
    "    s += '*'\n",
    "print(s)"
   ]
  }
 ],
 "metadata": {
  "kernelspec": {
   "display_name": "Python 3",
   "language": "python",
   "name": "python3"
  },
  "language_info": {
   "codemirror_mode": {
    "name": "ipython",
    "version": 3
   },
   "file_extension": ".py",
   "mimetype": "text/x-python",
   "name": "python",
   "nbconvert_exporter": "python",
   "pygments_lexer": "ipython3",
   "version": "3.8.5"
  }
 },
 "nbformat": 4,
 "nbformat_minor": 4
}
