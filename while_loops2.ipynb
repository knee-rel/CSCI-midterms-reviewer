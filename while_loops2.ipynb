{
 "cells": [
  {
   "cell_type": "markdown",
   "metadata": {},
   "source": [
    "Example 1\n",
    "\n",
    "Print 3 asterisks in one line"
   ]
  },
  {
   "cell_type": "code",
   "execution_count": 1,
   "metadata": {},
   "outputs": [
    {
     "name": "stdout",
     "output_type": "stream",
     "text": [
      "***\n"
     ]
    }
   ],
   "source": [
    "s = ''\n",
    "\n",
    "i = 0\n",
    "while i < 3:\n",
    "    s += '*'\n",
    "    i += 1\n",
    "\n",
    "print(s)"
   ]
  },
  {
   "cell_type": "code",
   "execution_count": null,
   "metadata": {},
   "outputs": [],
   "source": [
    "Example 2\n",
    "\n",
    "Output a 3x3 asterisk grid\n",
    "You have to \"reset\" s by repeating it "
   ]
  },
  {
   "cell_type": "code",
   "execution_count": 3,
   "metadata": {},
   "outputs": [
    {
     "name": "stdout",
     "output_type": "stream",
     "text": [
      "***\n",
      "***\n",
      "***\n"
     ]
    }
   ],
   "source": [
    "s = ''\n",
    "\n",
    "i = 0\n",
    "while i < 3:\n",
    "    s += '*'\n",
    "    i += 1\n",
    "\n",
    "print(s)\n",
    "\n",
    "s = ''\n",
    "i = 0\n",
    "while i < 3:\n",
    "    s += '*'\n",
    "    i += 1\n",
    "\n",
    "print(s)\n",
    "\n",
    "s = ''\n",
    "i = 0\n",
    "while i < 3:\n",
    "    s += '*'\n",
    "    i += 1\n",
    "\n",
    "print(s)"
   ]
  },
  {
   "cell_type": "markdown",
   "metadata": {},
   "source": [
    "Alternate Solution for Example 2\n",
    "\n",
    "Inner Loop: Responsible for the rows\n",
    "Outer Loop: Reponsible for the Columns"
   ]
  },
  {
   "cell_type": "code",
   "execution_count": 6,
   "metadata": {
    "scrolled": true
   },
   "outputs": [
    {
     "name": "stdout",
     "output_type": "stream",
     "text": [
      "***\n",
      "***\n",
      "***\n",
      "\n"
     ]
    }
   ],
   "source": [
    "s = ''\n",
    "\n",
    "n = 3\n",
    "i = 0\n",
    "\n",
    "while i < n:\n",
    "    j = 0\n",
    "    while j < n:\n",
    "        s += '*'\n",
    "        j += 1\n",
    "    s += '\\n'\n",
    "    i += 1\n",
    "print(s)"
   ]
  },
  {
   "cell_type": "markdown",
   "metadata": {},
   "source": [
    "Example 3\n",
    "\n",
    "Using input to output an arbitrary number of rows and columns"
   ]
  },
  {
   "cell_type": "code",
   "execution_count": 10,
   "metadata": {},
   "outputs": [
    {
     "name": "stdout",
     "output_type": "stream",
     "text": [
      "How many columns? 3\n",
      "How many rows? 6\n",
      "******\n",
      "******\n",
      "******\n",
      "\n"
     ]
    }
   ],
   "source": [
    "s = ''\n",
    "i = 0\n",
    "col = int(input('How many columns? '))\n",
    "row = int(input('How many rows? '))\n",
    "while i < col:\n",
    "    j = 0\n",
    "    while j < row:\n",
    "        s += '*'\n",
    "        j += 1\n",
    "    s += '\\n'\n",
    "    i += 1\n",
    "print(s)"
   ]
  },
  {
   "cell_type": "markdown",
   "metadata": {},
   "source": [
    "Example 4\n",
    "\n",
    "Expected Output:\n",
    "\n",
    "****\n",
    "*  *\n",
    "*  *\n",
    "****\n",
    "\n",
    "Conditions:\n",
    "Add an asterisk\n",
    "if it's the first row\n",
    "or if it's the last row\n",
    "or if it's the first column\n",
    "or if it's the last column\n",
    "else add a space\n"
   ]
  },
  {
   "cell_type": "code",
   "execution_count": 15,
   "metadata": {},
   "outputs": [
    {
     "name": "stdout",
     "output_type": "stream",
     "text": [
      "***\n",
      "* *\n",
      "***\n",
      "\n"
     ]
    }
   ],
   "source": [
    "s = ''\n",
    "\n",
    "n = 3\n",
    "i = 0\n",
    "\n",
    "while i < n:\n",
    "    j = 0\n",
    "    while j < n:\n",
    "        if i == 0 or i == n-1 or j == 0 or j == n-1:\n",
    "            s += '*'\n",
    "        else:\n",
    "            s += ' '\n",
    "        j += 1\n",
    "    s += '\\n'\n",
    "    i += 1\n",
    "print(s)"
   ]
  },
  {
   "cell_type": "markdown",
   "metadata": {},
   "source": [
    "Example 5\n",
    "\n",
    "Ouputs an even grid, only first and last columns have complete asterisks. The rest are blank."
   ]
  },
  {
   "cell_type": "code",
   "execution_count": 20,
   "metadata": {},
   "outputs": [
    {
     "name": "stdout",
     "output_type": "stream",
     "text": [
      "How many columns? 6\n",
      "******\n",
      "*    *\n",
      "*    *\n",
      "*    *\n",
      "*    *\n",
      "******\n",
      "\n"
     ]
    }
   ],
   "source": [
    "s = ''\n",
    "i = 0\n",
    "n= int(input('How many columns? '))\n",
    "\n",
    "while i < n:\n",
    "    j = 0\n",
    "    while j < n:\n",
    "        if i == 0 or i == n - 1 or n == 0 or j== 0 or j == n - 1:\n",
    "            s += '*'\n",
    "        else:\n",
    "            s += ' '\n",
    "        j += 1\n",
    "    s += '\\n'\n",
    "    i += 1\n",
    "print(s)\n"
   ]
  }
 ],
 "metadata": {
  "kernelspec": {
   "display_name": "Python 3",
   "language": "python",
   "name": "python3"
  },
  "language_info": {
   "codemirror_mode": {
    "name": "ipython",
    "version": 3
   },
   "file_extension": ".py",
   "mimetype": "text/x-python",
   "name": "python",
   "nbconvert_exporter": "python",
   "pygments_lexer": "ipython3",
   "version": "3.8.5"
  }
 },
 "nbformat": 4,
 "nbformat_minor": 4
}
