{
 "cells": [
  {
   "cell_type": "markdown",
   "metadata": {},
   "source": [
    "Example 1\n",
    "\n",
    "First Input: Number of rounds\n",
    "Second Input: How many words you want to append to the list\n",
    "Third input: The words that you append to the list\n",
    "\n",
    "Output: List of words appended to the list"
   ]
  },
  {
   "cell_type": "code",
   "execution_count": null,
   "metadata": {},
   "outputs": [
    {
     "name": "stdout",
     "output_type": "stream",
     "text": [
      "2\n",
      "round 1\n",
      "3\n",
      "New York\n",
      "Michigan\n",
      "New Mexico\n",
      "['New York', 'Michigan', 'New Mexico']\n",
      "round 2\n",
      "3\n",
      "Colarod\n",
      "Oregon\n",
      "Florida\n",
      "['Colarod', 'Oregon', 'Florida']\n",
      "round 3\n",
      "3\n",
      "Washington\n",
      "California\n"
     ]
    }
   ],
   "source": [
    "n = int(input())\n",
    "\n",
    "i = 0\n",
    "while i < n:\n",
    "    words = []\n",
    "    print('round', str(i+1))\n",
    "    n = int(input())\n",
    "    j = 0\n",
    "    while j < n:\n",
    "        words.append(input())\n",
    "        j += 1\n",
    "    print(words)\n",
    "    i += 1"
   ]
  },
  {
   "cell_type": "markdown",
   "metadata": {},
   "source": [
    "Example 2\n",
    "\n",
    "For loop version of Example 1"
   ]
  },
  {
   "cell_type": "code",
   "execution_count": 5,
   "metadata": {},
   "outputs": [
    {
     "name": "stdout",
     "output_type": "stream",
     "text": [
      "2\n",
      "Round:  1\n",
      "3\n",
      "New York\n",
      "Berlin\n",
      "Munich\n",
      "['New York', 'Berlin', 'Munich']\n",
      "Round:  2\n",
      "4\n",
      "Netherlands\n",
      "Austria\n",
      "Switzerland\n",
      "Belgium\n",
      "['Netherlands', 'Austria', 'Switzerland', 'Belgium']\n"
     ]
    }
   ],
   "source": [
    "loop = int(input())\n",
    "\n",
    "for word in range(loop):\n",
    "    print('Round: ', str(word+1))\n",
    "    words = []\n",
    "    n = int(input())\n",
    "    j = 0\n",
    "    while j < n:\n",
    "        words.append(input())\n",
    "        j += 1\n",
    "    print(words)\n",
    "    i += 1"
   ]
  },
  {
   "cell_type": "code",
   "execution_count": null,
   "metadata": {},
   "outputs": [],
   "source": []
  }
 ],
 "metadata": {
  "kernelspec": {
   "display_name": "Python 3",
   "language": "python",
   "name": "python3"
  },
  "language_info": {
   "codemirror_mode": {
    "name": "ipython",
    "version": 3
   },
   "file_extension": ".py",
   "mimetype": "text/x-python",
   "name": "python",
   "nbconvert_exporter": "python",
   "pygments_lexer": "ipython3",
   "version": "3.8.5"
  }
 },
 "nbformat": 4,
 "nbformat_minor": 4
}
