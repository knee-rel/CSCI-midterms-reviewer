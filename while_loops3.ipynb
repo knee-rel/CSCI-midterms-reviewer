{
 "cells": [
  {
   "cell_type": "markdown",
   "metadata": {},
   "source": [
    "Example 1\n",
    "\n",
    "Example provided consists of an inner loop and an outer loop"
   ]
  },
  {
   "cell_type": "code",
   "execution_count": 6,
   "metadata": {},
   "outputs": [
    {
     "name": "stdout",
     "output_type": "stream",
     "text": [
      "This is iteration #0\n",
      "Entering inner loop\n",
      "This is inner loop #0\n",
      "This is inner loop #1\n",
      "This is inner loop #2\n",
      "This is inner loop #3\n",
      "This is inner loop #4\n",
      "This is iteration #1\n",
      "Entering inner loop\n",
      "This is inner loop #0\n",
      "This is inner loop #1\n",
      "This is inner loop #2\n",
      "This is inner loop #3\n",
      "This is inner loop #4\n",
      "This is iteration #2\n",
      "Entering inner loop\n",
      "This is inner loop #0\n",
      "This is inner loop #1\n",
      "This is inner loop #2\n",
      "This is inner loop #3\n",
      "This is inner loop #4\n",
      "This is iteration #3\n",
      "Entering inner loop\n",
      "This is inner loop #0\n",
      "This is inner loop #1\n",
      "This is inner loop #2\n",
      "This is inner loop #3\n",
      "This is inner loop #4\n",
      "This is iteration #4\n",
      "Entering inner loop\n",
      "This is inner loop #0\n",
      "This is inner loop #1\n",
      "This is inner loop #2\n",
      "This is inner loop #3\n",
      "This is inner loop #4\n"
     ]
    }
   ],
   "source": [
    "n = 5\n",
    "i = 0\n",
    "while i < n:\n",
    "    print('This is iteration #' + str(i))\n",
    "    print('Entering inner loop')\n",
    "    j = 0\n",
    "    while j < n:\n",
    "        print('This is inner loop #' + str(j))\n",
    "        j += 1\n",
    "    i += 1"
   ]
  },
  {
   "cell_type": "markdown",
   "metadata": {},
   "source": [
    "Example 2\n",
    "\n",
    "First condition: \n",
    "\n",
    "Expected Output:\n",
    "*****\n",
    " ****\n",
    "  ***\n",
    "   **\n",
    "    *"
   ]
  },
  {
   "cell_type": "code",
   "execution_count": 12,
   "metadata": {},
   "outputs": [
    {
     "name": "stdout",
     "output_type": "stream",
     "text": [
      "3\n",
      "***\n",
      " **\n",
      "  *\n",
      "\n"
     ]
    }
   ],
   "source": [
    "s = ''\n",
    "i = 0\n",
    "n = int(input())\n",
    "\n",
    "while i < n:\n",
    "    j = 0\n",
    "    while j < n:\n",
    "        if j < i:\n",
    "            s += ' '\n",
    "        else:\n",
    "            s += '*'\n",
    "        j += 1\n",
    "    s += '\\n'\n",
    "    i += 1\n",
    "print(s)"
   ]
  },
  {
   "cell_type": "markdown",
   "metadata": {},
   "source": [
    "Example 3\n",
    "\n",
    "Another Triangle Loop"
   ]
  },
  {
   "cell_type": "code",
   "execution_count": 18,
   "metadata": {},
   "outputs": [
    {
     "name": "stdout",
     "output_type": "stream",
     "text": [
      "3\n",
      "*  \n",
      "** \n",
      "***\n",
      "\n"
     ]
    }
   ],
   "source": [
    "s = ''\n",
    "i = 0\n",
    "n = int(input())\n",
    "\n",
    "while i < n:\n",
    "    j = 0\n",
    "    while j < n:\n",
    "        if j > i:\n",
    "            s += ' '\n",
    "        else:\n",
    "            s += '*'\n",
    "        j += 1\n",
    "    s += '\\n'\n",
    "    i += 1\n",
    "\n",
    "print(s)"
   ]
  },
  {
   "cell_type": "code",
   "execution_count": null,
   "metadata": {},
   "outputs": [],
   "source": []
  }
 ],
 "metadata": {
  "kernelspec": {
   "display_name": "Python 3",
   "language": "python",
   "name": "python3"
  },
  "language_info": {
   "codemirror_mode": {
    "name": "ipython",
    "version": 3
   },
   "file_extension": ".py",
   "mimetype": "text/x-python",
   "name": "python",
   "nbconvert_exporter": "python",
   "pygments_lexer": "ipython3",
   "version": "3.8.5"
  }
 },
 "nbformat": 4,
 "nbformat_minor": 4
}
